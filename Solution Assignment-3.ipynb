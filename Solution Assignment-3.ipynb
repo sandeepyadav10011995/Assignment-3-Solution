{
 "cells": [
  {
   "cell_type": "raw",
   "metadata": {},
   "source": [
    "Write a function to compute 5/0 and use try/except to catch the exceptions."
   ]
  },
  {
   "cell_type": "code",
   "execution_count": 1,
   "metadata": {},
   "outputs": [
    {
     "name": "stdout",
     "output_type": "stream",
     "text": [
      "Divisor should not be 0\n"
     ]
    }
   ],
   "source": [
    "def division_func(dividend, divisor):\n",
    "    try:\n",
    "        return (dividend/divisor)\n",
    "    except ZeroDivisionError:\n",
    "        print(\"Divisor should not be 0\")\n",
    "    \n",
    "if __name__ == '__main__':\n",
    "    a = (division_func(5, 0))\n",
    "    if a is not None:\n",
    "        print(a)"
   ]
  },
  {
   "cell_type": "raw",
   "metadata": {},
   "source": [
    "Implement a Python program to generate all sentences where subject is in [\"Americans\",\n",
    "\"Indians\"] and verb is in [\"Play\", \"watch\"] and the object is in [\"Baseball\",\"cricket\"].\n",
    "Hint: Subject,Verb and Object should be declared in the program as shown below.\n",
    "subjects=[\"Americans \",\"Indians\"]\n",
    "verbs=[\"play\",\"watch\"]\n",
    "objects=[\"Baseball\",\"Cricket\"]\n",
    "Output should come as below:\n",
    "Americans play Baseball.\n",
    "Americans play Cricket.\n",
    "Americans watch Baseball.\n",
    "Americans watch Cricket.\n",
    "Indians play Baseball.\n",
    "Indians play Cricket.\n",
    "Indians watch Baseball.\n",
    "Indians watch Cricket."
   ]
  },
  {
   "cell_type": "code",
   "execution_count": 2,
   "metadata": {},
   "outputs": [
    {
     "name": "stdout",
     "output_type": "stream",
     "text": [
      "Enter the subjects : Americans Indians\n",
      "Enter the verb : play watch\n",
      "Enter the objects : Cricket Basketball\n",
      "Americans play Cricket.\n",
      "Americans play Basketball.\n",
      "Americans watch Cricket.\n",
      "Americans watch Basketball.\n",
      "Indians play Cricket.\n",
      "Indians play Basketball.\n",
      "Indians watch Cricket.\n",
      "Indians watch Basketball.\n"
     ]
    }
   ],
   "source": [
    "def sent_generator(subjects, verb, objects):\n",
    "    sentence_list = [(sub + \" \" + ver + \" \" + obj + \".\") for sub in subjects for ver in verb for obj in objects]\n",
    "    return sentence_list\n",
    "\n",
    "if __name__ == '__main__':\n",
    "    subjects = input(\"Enter the subjects : \").split()\n",
    "    verb = input(\"Enter the verb : \").split()\n",
    "    objects = input(\"Enter the objects : \").split()\n",
    "    sentence_list = sent_generator(subjects, verb, objects)\n",
    "    for sent in sentence_list:\n",
    "        print(sent)\n"
   ]
  },
  {
   "cell_type": "raw",
   "metadata": {},
   "source": [
    "Write a function so that the columns of the output matrix are powers of the input vector.\n",
    "The order of the powers is determined by the increasing boolean argument. Specifically, when\n",
    "increasing is False, the i-th output column is the input vector raised element-wise to the power\n",
    "of N - i - 1.\n",
    "HINT: Such a matrix with a geometric progression in each row is named for Alexandre-\n",
    "Theophile Vandermonde."
   ]
  },
  {
   "cell_type": "code",
   "execution_count": 3,
   "metadata": {},
   "outputs": [
    {
     "name": "stdout",
     "output_type": "stream",
     "text": [
      "Enter the value of N : 3\n",
      "Method 1: \n",
      " [[ 1  1  1]\n",
      " [ 4  2  1]\n",
      " [ 9  3  1]\n",
      " [25  5  1]]\n",
      "************************************************************\n",
      "Method 2: \n",
      " [[ 1  1  1]\n",
      " [ 4  2  1]\n",
      " [ 9  3  1]\n",
      " [25  5  1]]\n"
     ]
    }
   ],
   "source": [
    "import numpy as np\n",
    "x = np.array([1, 2, 3, 5])\n",
    "n = input(\"Enter the value of N : \")\n",
    "N = int(n) if n is not \"\" else len(x) # When no value is provided it should create a square matrix of array size\n",
    "# Method 1\n",
    "print(\"Method 1: \\n\", np.column_stack([x**(N-1-i) for i in range(N)]))\n",
    "print(\"*\" * 60)\n",
    "# Method 2\n",
    "print(\"Method 2: \\n\", np.vander(x, N))"
   ]
  },
  {
   "cell_type": "code",
   "execution_count": null,
   "metadata": {},
   "outputs": [],
   "source": []
  }
 ],
 "metadata": {
  "kernelspec": {
   "display_name": "Python 3",
   "language": "python",
   "name": "python3"
  },
  "language_info": {
   "codemirror_mode": {
    "name": "ipython",
    "version": 3
   },
   "file_extension": ".py",
   "mimetype": "text/x-python",
   "name": "python",
   "nbconvert_exporter": "python",
   "pygments_lexer": "ipython3",
   "version": "3.7.0"
  }
 },
 "nbformat": 4,
 "nbformat_minor": 2
}
